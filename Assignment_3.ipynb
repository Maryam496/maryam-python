{
  "nbformat": 4,
  "nbformat_minor": 0,
  "metadata": {
    "colab": {
      "name": "Assignment 3",
      "provenance": [],
      "collapsed_sections": []
    },
    "kernelspec": {
      "name": "python3",
      "display_name": "Python 3"
    }
  },
  "cells": [
    {
      "cell_type": "code",
      "metadata": {
        "id": "kDqRHIOh8owg",
        "colab_type": "code",
        "colab": {}
      },
      "source": [
        ""
      ],
      "execution_count": 0,
      "outputs": []
    },
    {
      "cell_type": "code",
      "metadata": {
        "id": "q7Fw7etDB_KS",
        "colab_type": "code",
        "outputId": "56234223-7bed-4403-b2d6-c89c9d3bc874",
        "colab": {
          "base_uri": "https://localhost:8080/",
          "height": 90
        }
      },
      "source": [
        "val1= input(\"Enter first value \")\n",
        "val2= input(\"Enter second  value\")\n",
        "operator= input(\"Enter operator\")\n",
        "val1= int(val1)\n",
        "val2= int(val2)\n",
        "\n",
        "if operator =='+':\n",
        "    val= val1 +val2\n",
        "    print(val,'answer')\n",
        "elif operator =='-':\n",
        "    val= val1-val2\n",
        "    print(val,'answer')\n",
        "elif operator =='*':\n",
        "      val= val1 *val2\n",
        "      print(val ,'answer')\n",
        "elif operator =='/':\n",
        "   val=val1/val2\n",
        "   print(val,'answer')\n",
        "elif operator =='**':\n",
        "   val=val1**val2\n",
        "   print(val,'answer')\n",
        "    \n",
        "   \n",
        "   \n",
        "\n",
        "else:\n",
        "     print('Enter Correct Operator')"
      ],
      "execution_count": 0,
      "outputs": [
        {
          "output_type": "stream",
          "text": [
            "Enter first value 19\n",
            "Enter second  value3\n",
            "Enter operator*\n",
            "57 answer\n"
          ],
          "name": "stdout"
        }
      ]
    },
    {
      "cell_type": "code",
      "metadata": {
        "id": "8KT1XHBduuwF",
        "colab_type": "code",
        "outputId": "1912f169-6d44-4921-c283-875ffa03f54c",
        "colab": {
          "base_uri": "https://localhost:8080/",
          "height": 51
        }
      },
      "source": [
        "numeric_values= [\"17\",\"18\",\"19\"]\n",
        "val= input(\"enter number\")\n",
        "for hakunamatata in numeric_values:\n",
        "  if val == hakunamatata:\n",
        "    print(\"this is the numeric value\")\n",
        "else:\n",
        "  print(\"this is not the numeric value\")\n",
        "    \n"
      ],
      "execution_count": 0,
      "outputs": [
        {
          "output_type": "stream",
          "text": [
            "enter numbermaryam\n",
            "this is not the numeric value\n"
          ],
          "name": "stdout"
        }
      ]
    },
    {
      "cell_type": "code",
      "metadata": {
        "id": "av5iBzbLpNxj",
        "colab_type": "code",
        "outputId": "7b888aa4-1873-482f-a7af-e0e9baf1e31a",
        "colab": {
          "base_uri": "https://localhost:8080/",
          "height": 34
        }
      },
      "source": [
        "capitals ={'Pakistan':'Islamabad','UK':'London','France':'Paris'}\n",
        "capitals['Germany']='Berlin'\n",
        "print(capitals)"
      ],
      "execution_count": 0,
      "outputs": [
        {
          "output_type": "stream",
          "text": [
            "{'Pakistan': 'Islamabad', 'UK': 'London', 'France': 'Paris', 'Germany': 'Berlin'}\n"
          ],
          "name": "stdout"
        }
      ]
    },
    {
      "cell_type": "code",
      "metadata": {
        "id": "ypwXmx98rPR2",
        "colab_type": "code",
        "outputId": "ea3dc602-609d-432e-9470-58855d5fbe6a",
        "colab": {
          "base_uri": "https://localhost:8080/",
          "height": 34
        }
      },
      "source": [
        "Maryam={'a':50, 'b':100, 'c':150, 'd':200}\n",
        "total= sum(Maryam.values())\n",
        "print(total)"
      ],
      "execution_count": 0,
      "outputs": [
        {
          "output_type": "stream",
          "text": [
            "500\n"
          ],
          "name": "stdout"
        }
      ]
    },
    {
      "cell_type": "code",
      "metadata": {
        "id": "Zi2kqads8Cmr",
        "colab_type": "code",
        "outputId": "2a282006-57ea-469c-92f5-c1ab1f8f8868",
        "colab": {
          "base_uri": "https://localhost:8080/",
          "height": 135
        }
      },
      "source": [
        "import counter\n",
        "def find_dup_char(input):\n",
        "  wc= counter(input)\n",
        "  j=-1\n",
        "for i in wc.values():\n",
        "  j=j+1\n",
        "  if(i>1):\n",
        "    print wc.keys()[j]:"
      ],
      "execution_count": 0,
      "outputs": [
        {
          "output_type": "error",
          "ename": "SyntaxError",
          "evalue": "ignored",
          "traceback": [
            "\u001b[0;36m  File \u001b[0;32m\"<ipython-input-39-bae64e7f9b13>\"\u001b[0;36m, line \u001b[0;32m8\u001b[0m\n\u001b[0;31m    print wc.keys()[j]:\u001b[0m\n\u001b[0m           ^\u001b[0m\n\u001b[0;31mSyntaxError\u001b[0m\u001b[0;31m:\u001b[0m invalid syntax\n"
          ]
        }
      ]
    },
    {
      "cell_type": "code",
      "metadata": {
        "id": "n-qMuYdiyDhU",
        "colab_type": "code",
        "outputId": "8919d5ef-7887-4e64-ad3a-ee065eeb8b66",
        "colab": {
          "base_uri": "https://localhost:8080/",
          "height": 72
        }
      },
      "source": [
        "d= {'maryam' : 130,'nisbha': 247,'fatima' : 420, 'hamza' : 569,'abdullah' : 280}\n",
        "user_ip = input('Enter the key to be verified:')\n",
        "if user_ip in d.keys():\n",
        "  print('key is present in the dictionary')\n",
        "  print('value',':' ,d[user_ip])\n",
        "else:\n",
        "  print(\"key is not present in the dictionary\")"
      ],
      "execution_count": 0,
      "outputs": [
        {
          "output_type": "stream",
          "text": [
            "Enter the key to be verified:hamza\n",
            "key is present in the dictionary\n",
            "value : 569\n"
          ],
          "name": "stdout"
        }
      ]
    }
  ]
}