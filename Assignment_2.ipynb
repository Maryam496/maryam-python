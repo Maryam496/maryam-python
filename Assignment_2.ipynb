{
  "nbformat": 4,
  "nbformat_minor": 0,
  "metadata": {
    "colab": {
      "name": "Assignment 2",
      "provenance": [],
      "collapsed_sections": []
    },
    "kernelspec": {
      "name": "python3",
      "display_name": "Python 3"
    }
  },
  "cells": [
    {
      "cell_type": "code",
      "metadata": {
        "id": "R4C-OfgxpuHj",
        "colab_type": "code",
        "outputId": "29c6becc-e1cd-4396-9389-2fe6a408993f",
        "colab": {
          "base_uri": "https://localhost:8080/",
          "height": 136
        }
      },
      "source": [
        "print(\"Enter marks of subjects for marksheet\")\n",
        "a=int(input(\"Enter marks for Subject1:\"))\n",
        "b=int(input(\"Enter marks for Subject2:\"))\n",
        "c=int(input(\"Enter marks for Subject3:\"))\n",
        "d=int(input(\"Enter marks for Subject4:\"))\n",
        "e=int(input(\"Enter marks for subject5:\"))\n",
        "per= (a+b+c+d+e )/5\n",
        "per= int(per)\n",
        "\n",
        "if per>=0 and per<33:\n",
        "  print(\"Fail\")\n",
        "elif per>=33 and per<40:\n",
        "  print(\"Grade E\")\n",
        "elif per>=40 and per<50:\n",
        "   print(\"Grade D\")\n",
        "elif per>=50 and per<60:\n",
        "    print(\"Grade C\")\n",
        "elif per>=60 and per<70:\n",
        "   print(\"Grade B\")\n",
        "elif per>=70 and per<80:\n",
        "   print(\"Grade A\")\n",
        "elif per>=80 and per<100:\n",
        "   print(\"Congratulations You Got A+\")\n",
        "else:\n",
        "    print(\"not valid enter again\")"
      ],
      "execution_count": 0,
      "outputs": [
        {
          "output_type": "stream",
          "text": [
            "Enter marks of subjects for marksheet\n",
            "Enter marks for Subject1:88\n",
            "Enter marks for Subject2:78\n",
            "Enter marks for Subject3:68\n",
            "Enter marks for Subject4:58\n",
            "Enter marks for subject5:48\n",
            "Grade B\n"
          ],
          "name": "stdout"
        }
      ]
    },
    {
      "cell_type": "code",
      "metadata": {
        "id": "eMwtVDdc1hrs",
        "colab_type": "code",
        "outputId": "aec36072-2ee2-410b-f3c0-a857bdddff2a",
        "colab": {
          "base_uri": "https://localhost:8080/",
          "height": 51
        }
      },
      "source": [
        "a=int(input(\"Enter number to check if the number is even or odd;\"))\n",
        "if (a % 2) == 0:\n",
        "  print(\"The given number is Even\") \n",
        "else:\n",
        "  print(\"The given number is odd\")"
      ],
      "execution_count": 0,
      "outputs": [
        {
          "output_type": "stream",
          "text": [
            "Enter number to check if the number is even or odd;30\n",
            "The given number is Even\n"
          ],
          "name": "stdout"
        }
      ]
    },
    {
      "cell_type": "code",
      "metadata": {
        "id": "QYjTrOzE2abd",
        "colab_type": "code",
        "outputId": "6fb3ceb7-87d8-464f-dec9-02db997d2a31",
        "colab": {
          "base_uri": "https://localhost:8080/",
          "height": 34
        }
      },
      "source": [
        "Students= [\"Maryam\",\"Nisbha\",\"Fatima\",\"Lveeza\",\"Mahnoor\"]\n",
        "print(len(Students))"
      ],
      "execution_count": 0,
      "outputs": [
        {
          "output_type": "stream",
          "text": [
            "5\n"
          ],
          "name": "stdout"
        }
      ]
    },
    {
      "cell_type": "code",
      "metadata": {
        "id": "IvFlwhMG3GEE",
        "colab_type": "code",
        "outputId": "289da8d7-f2e5-433b-cbc0-87e69463f1e9",
        "colab": {
          "base_uri": "https://localhost:8080/",
          "height": 34
        }
      },
      "source": [
        "num= [11 ,21, 31, 41, 51, 61, 71, 81]\n",
        "add = 0\n",
        "for i in num:\n",
        "   add +=i\n",
        "print(\"sum of list:\",add)"
      ],
      "execution_count": 0,
      "outputs": [
        {
          "output_type": "stream",
          "text": [
            "sum of list: 368\n"
          ],
          "name": "stdout"
        }
      ]
    },
    {
      "cell_type": "code",
      "metadata": {
        "id": "5GZUxUfS43ze",
        "colab_type": "code",
        "outputId": "c8da78bf-c24f-4d8c-e1bc-556732db4d42",
        "colab": {
          "base_uri": "https://localhost:8080/",
          "height": 34
        }
      },
      "source": [
        "num= [11, 21, 31, 41,51, 61, 71, 81]\n",
        "largest = 0\n",
        "for i in num:\n",
        "  if i >= largest:\n",
        "    largest=i\n",
        "print(largest)"
      ],
      "execution_count": 0,
      "outputs": [
        {
          "output_type": "stream",
          "text": [
            "81\n"
          ],
          "name": "stdout"
        }
      ]
    },
    {
      "cell_type": "code",
      "metadata": {
        "id": "7AdFG9Ai5vxT",
        "colab_type": "code",
        "outputId": "9173125c-eedb-46ba-9cba-23b9ce4a9261",
        "colab": {
          "base_uri": "https://localhost:8080/",
          "height": 34
        }
      },
      "source": [
        "num= [2, 3, 5, 5, 8, 13, 21, 34, 55, 89, 1, 1, 4]\n",
        "newlist =[]\n",
        "for i in num:\n",
        "  if i<5 :\n",
        "      newlist.append(i)\n",
        "newlist\n",
        "                   "
      ],
      "execution_count": 0,
      "outputs": [
        {
          "output_type": "execute_result",
          "data": {
            "text/plain": [
              "[2, 3, 1, 1, 4]"
            ]
          },
          "metadata": {
            "tags": []
          },
          "execution_count": 21
        }
      ]
    }
  ]
}